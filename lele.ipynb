{
 "cells": [
  {
   "cell_type": "code",
   "execution_count": 1,
   "metadata": {},
   "outputs": [
    {
     "data": {
      "text/plain": [
       "'C:\\\\Users\\\\Abhishek\\\\Desktop\\\\holy\\\\tomriddle04-UDACITY-ML-nanodegree-project-1-873f07c'"
      ]
     },
     "execution_count": 1,
     "metadata": {},
     "output_type": "execute_result"
    }
   ],
   "source": [
    "pwd"
   ]
  },
  {
   "cell_type": "code",
   "execution_count": 2,
   "metadata": {},
   "outputs": [
    {
     "name": "stdout",
     "output_type": "stream",
     "text": [
      "C:\\Users\\Abhishek\\Desktop\\final01\n"
     ]
    }
   ],
   "source": [
    "cd C:\\Users\\Abhishek\\Desktop\\final01"
   ]
  },
  {
   "cell_type": "code",
   "execution_count": 3,
   "metadata": {},
   "outputs": [],
   "source": [
    "#importing all the necessary functions and packages\n",
    "import pandas as pd\n",
    "import numpy as np\n",
    "import json\n",
    "import time\n",
    "def filtering_the_data():\n",
    "    while True:\n",
    "        city=input(print('which city data you want out of chicago new york or washington\\n'))\n",
    "        city=city.lower()\n",
    "        if city in cities:\n",
    "            break\n",
    "    while True:\n",
    "        month=input(print('enter the month name\\n'))\n",
    "        month=month.lower()\n",
    "        if month in months:\n",
    "            break\n",
    "    while True:\n",
    "        day=input(print('enter the day of the week\\n'))\n",
    "        day=day.lower()\n",
    "        if day in days:\n",
    "            break\n",
    "    return(city,month,day)"
   ]
  },
  {
   "cell_type": "code",
   "execution_count": 4,
   "metadata": {},
   "outputs": [],
   "source": [
    "\"\"\"load_data fun here selecting the data of a city which is given by user as a input and changing\n",
    "    1.datatype of Start Time column.\n",
    "    2.datatype of month column.\n",
    "    3.datatype of hour and day column also.\n",
    "    4.returning the file of data.\n",
    "    5.print the first few lines of dataset.\n",
    "\"\"\"\n",
    "def load_data(city,month,day):\n",
    "    name=pd.read_csv(CITY_DATA[city])\n",
    "    name['Start Time']=pd.to_datetime(name['Start Time'])\n",
    "    name['month']=name['Start Time'].dt.month\n",
    "    name['hour']=name['Start Time'].dt.hour\n",
    "    name['day']=name['Start Time'].dt.weekday_name\n",
    "    show_data=input(print(\"press yes if you want to see the first 5 rows of your dataset\"))\n",
    "    show_data=show_data.lower()\n",
    "    i=5\n",
    "    while(show_data=='yes'):\n",
    "        print('\\n First 5 lines of your dataset is \\n')\n",
    "        print(name.head(i))\n",
    "        show_data=input(print(\"press yes if you want to see the first 5 rows of your dataset\"))\n",
    "        show_data=show_data.lower()\n",
    "        i=i+5\n",
    "    if month!='None':\n",
    "        month=months.index(month)+1\n",
    "    if day!='None':\n",
    "        name=name[name['day']==day.title()] \n",
    "    return(name)"
   ]
  },
  {
   "cell_type": "markdown",
   "metadata": {},
   "source": [
    "Popular times of travel\n",
    "- find most common month\n",
    "- find most common day of week\n",
    "- find most common hour of day\n",
    "    "
   ]
  },
  {
   "cell_type": "code",
   "execution_count": null,
   "metadata": {},
   "outputs": [],
   "source": [
    "\"\"\"this fun find\n",
    "   1.most_common_month.\n",
    "   2.most_common_day_of_week.\n",
    "   3.most_common_hour.\n",
    "\"\"\"\n",
    "def  popular_times_of_travel(name):\n",
    "    most_common_month=name[\"month\"].value_counts().idxmax()\n",
    "    most_common_day_of_week=name[\"day\"].value_counts().idxmax()\n",
    "    most_common_hour_of_day=name[\"hour\"].value_counts().idxmax()\n",
    "    print('\\n The most common month:',most_common_month)\n",
    "    print('\\n The most day of the week:',most_common_day_of_week)\n",
    "    print('\\n The most common hour:', most_common_hour_of_day)\n",
    " \n",
    " "
   ]
  },
  {
   "cell_type": "markdown",
   "metadata": {},
   "source": [
    "Q.Popular stations and trip\n",
    "- find most common start station\n",
    "- find most common end station\n"
   ]
  },
  {
   "cell_type": "code",
   "execution_count": null,
   "metadata": {},
   "outputs": [],
   "source": [
    "\"\"\"This fun find most_common_start station and most_common_end_station\"\"\"\n",
    "def popular_station_trip(name):\n",
    "    most_common_start_station=name['Start Station'].value_counts().idxmax()\n",
    "    most_common_end_station=name['End Station'].value_counts().idxmax()\n",
    "    #most_common_trip_from_start_to_end=name[['Start Station','End Station']].mode().loc[0]\n",
    "    print('\\nmost_common_start_station is :',most_common_start_station)\n",
    "    print('\\n most_common_end_station is :', most_common_end_station)\n",
    "    #print(\"most commonly start and end station are :{},{}\".format( most_common_trip_from_start_to_end[0],\\\n",
    "        #                                                           most_common_trip_from_start_to_end[1])              "
   ]
  },
  {
   "cell_type": "markdown",
   "metadata": {},
   "source": [
    "Q.Trip duration\n",
    "- Find total travel time\n",
    "- Find average travel time"
   ]
  },
  {
   "cell_type": "code",
   "execution_count": null,
   "metadata": {},
   "outputs": [],
   "source": [
    "\"\"\"This fun find out total sum of trip duration and average of trip duration \"\"\"\n",
    "def trip_duration(name):\n",
    "    total_travel_time=name['Trip Duration'].sum()\n",
    "    avg_travel_time=name['Trip Duration'].mean()\n",
    "    print('\\n total_travel_time is :',total_travel_time)\n",
    "    print('\\n avg_travel_time is :',avg_travel_time)   "
   ]
  },
  {
   "cell_type": "markdown",
   "metadata": {},
   "source": [
    "Q.Find the answer of the following questions\n",
    "- Counts of each user type\n",
    "- Counts of each gender"
   ]
  },
  {
   "cell_type": "code",
   "execution_count": null,
   "metadata": {},
   "outputs": [],
   "source": [
    "\"\"\"user_iformation is a fun which find the following things \n",
    "   1.count of each_gender_type.\n",
    "   2.Most common year.\n",
    "\"\"\"\n",
    "def user_information(name):\n",
    "    gender_counts=name['Gender'].value_counts()\n",
    "    most_common_year=name['Birth Year'].value_counts().idxmax()\n",
    "    print('\\n gender_counts is :',  gender_counts)\n",
    "    print('\\n most_common_year is :',int(most_common_year)) "
   ]
  },
  {
   "cell_type": "code",
   "execution_count": null,
   "metadata": {},
   "outputs": [],
   "source": [
    "\"\"\"each_user_type is a fun which find \n",
    "   the count of each user type\n",
    "\"\"\"\n",
    "def each_user_type(name):\n",
    "    count_of_each_user_Type=name['User Type'].value_counts()\n",
    "    print('\\n count_of_each_user_Type is :',count_of_each_user_Type)\n",
    "    "
   ]
  },
  {
   "cell_type": "code",
   "execution_count": null,
   "metadata": {},
   "outputs": [
    {
     "name": "stdout",
     "output_type": "stream",
     "text": [
      "which city data you want out of chicago new york or washington\n",
      "\n",
      "Nonewashington\n",
      "enter the month name\n",
      "\n",
      "Nonemay\n",
      "enter the day of the week\n",
      "\n",
      "Nonemonday\n",
      "press yes if you want to see the first 5 rows of your dataset\n",
      "Noneyes\n",
      "\n",
      " First 5 lines of your dataset is \n",
      "\n",
      "   Unnamed: 0          Start Time             End Time  Trip Duration  \\\n",
      "0     1621326 2017-06-21 08:36:34  2017-06-21 08:44:43        489.066   \n",
      "1      482740 2017-03-11 10:40:00  2017-03-11 10:46:00        402.549   \n",
      "2     1330037 2017-05-30 01:02:59  2017-05-30 01:13:37        637.251   \n",
      "3      665458 2017-04-02 07:48:35  2017-04-02 08:19:03       1827.341   \n",
      "4     1481135 2017-06-10 08:36:28  2017-06-10 09:02:17       1549.427   \n",
      "\n",
      "                                 Start Station                   End Station  \\\n",
      "0                         14th & Belmont St NW                15th & K St NW   \n",
      "1                   Yuma St & Tenley Circle NW  Connecticut Ave & Yuma St NW   \n",
      "2               17th St & Massachusetts Ave NW                 5th & K St NW   \n",
      "3             Constitution Ave & 2nd St NW/DOL    M St & Pennsylvania Ave NW   \n",
      "4  Henry Bacon Dr & Lincoln Memorial Circle NW         Maine Ave & 7th St SW   \n",
      "\n",
      "    User Type  month  hour        day  \n",
      "0  Subscriber      6     8  Wednesday  \n",
      "1  Subscriber      3    10   Saturday  \n",
      "2  Subscriber      5     1    Tuesday  \n",
      "3    Customer      4     7     Sunday  \n",
      "4  Subscriber      6     8   Saturday  \n",
      "press yes if you want to see the first 5 rows of your dataset\n",
      "Noneno\n",
      "\n",
      " The most common month: 5\n",
      "\n",
      " The most day of the week: Monday\n",
      "\n",
      " The most common hour: 8\n",
      "\n",
      "most_common_start_station is : Columbus Circle / Union Station\n",
      "\n",
      " most_common_end_station is : Columbus Circle / Union Station\n",
      "\n",
      " total_travel_time is : 44970060.37799999\n",
      "\n",
      " avg_travel_time is : 1126.2223986476258\n",
      "\n",
      " count_of_each_user_Type is : Subscriber    30768\n",
      "Customer       9162\n",
      "Name: User Type, dtype: int64\n",
      "enter yes to end the program:\n"
     ]
    }
   ],
   "source": [
    "\"\"\"This block is the main body of code from here we call the other function to  perform specific \n",
    "   functionality.city_data is a dictionary which contain dataset of 3 town\"\"\"\n",
    "while True:\n",
    "    CITY_DATA={'chicago':'chicago.csv','new york':'new_york_city.csv','washington':'washington.csv'}\n",
    "    cities=['chicago','new york','washington']\n",
    "    months=['january','february','march','april','may','june','august','september','october','november','december']\n",
    "    days=['sunday','monday','tuesday','wednesday','thrusday','friday','saturday','sunday']\n",
    "    city,month,day=filtering_the_data()\n",
    "    name = load_data(city,month,day)\n",
    "    popular_times_of_travel(name)\n",
    "    popular_station_trip(name)\n",
    "    trip_duration(name)\n",
    "    each_user_type(name)\n",
    "    if(city!='washington'):\n",
    "        user_information(name)\n",
    "    z=input(print('enter yes to end the program:'))\n",
    "    z=z.lower()\n",
    "    if(z=='yes'):\n",
    "        break\n",
    "    "
   ]
  },
  {
   "cell_type": "code",
   "execution_count": null,
   "metadata": {},
   "outputs": [],
   "source": []
  },
  {
   "cell_type": "code",
   "execution_count": null,
   "metadata": {},
   "outputs": [],
   "source": []
  }
 ],
 "metadata": {
  "kernelspec": {
   "display_name": "Python 3",
   "language": "python",
   "name": "python3"
  },
  "language_info": {
   "codemirror_mode": {
    "name": "ipython",
    "version": 3
   },
   "file_extension": ".py",
   "mimetype": "text/x-python",
   "name": "python",
   "nbconvert_exporter": "python",
   "pygments_lexer": "ipython3",
   "version": "3.7.1"
  }
 },
 "nbformat": 4,
 "nbformat_minor": 2
}
