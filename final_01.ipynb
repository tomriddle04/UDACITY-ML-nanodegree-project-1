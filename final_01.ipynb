{
 "cells": [
  {
   "cell_type": "code",
   "execution_count": 1,
   "metadata": {},
   "outputs": [
    {
     "data": {
      "text/plain": [
       "'C:\\\\Users\\\\Abhishek\\\\Desktop\\\\tomriddle04-UDACITY-ML-nanodegree-project-1-d2d7c1d'"
      ]
     },
     "execution_count": 1,
     "metadata": {},
     "output_type": "execute_result"
    }
   ],
   "source": [
    "pwd"
   ]
  },
  {
   "cell_type": "code",
   "execution_count": 2,
   "metadata": {},
   "outputs": [
    {
     "name": "stdout",
     "output_type": "stream",
     "text": [
      "C:\\Users\\Abhishek\\Desktop\\final01\n"
     ]
    }
   ],
   "source": [
    "cd C:\\Users\\Abhishek\\Desktop\\final01"
   ]
  },
  {
   "cell_type": "code",
   "execution_count": 3,
   "metadata": {},
   "outputs": [],
   "source": [
    "#importing all the necessary functions and packages\n",
    "import pandas as pd\n",
    "import numpy as np\n",
    "import json\n",
    "import time\n",
    "def filtering_the_data():\n",
    "    while True:\n",
    "        city=input(print('which city data you want out of chicago new york or washington\\n'))\n",
    "        city=city.lower()\n",
    "        if city in cities:\n",
    "            break\n",
    "    month=input(print('enter the month name\\n'))\n",
    "    month=month.lower()\n",
    "    day=input(print('enter the day of the week\\n'))\n",
    "    day=day.lower()\n",
    "    return(city,month,day)"
   ]
  },
  {
   "cell_type": "code",
   "execution_count": 4,
   "metadata": {},
   "outputs": [],
   "source": [
    "\"\"\"load_data fun here selecting the data of a city which is given by user as a input and changing\n",
    "    1.datatype of Start Time column.\n",
    "    2.datatype of month column.\n",
    "    3.datatype of hour and day column also.\n",
    "    4.returning the file of data.\n",
    "    5.print the first few lines of dataset.\n",
    "\"\"\"\n",
    "def load_data(city,month,day):\n",
    "    name=pd.read_csv(CITY_DATA[city])\n",
    "    name['Start Time']=pd.to_datetime(name['Start Time'])\n",
    "    name['month']=name['Start Time'].dt.month\n",
    "    name['hour']=name['Start Time'].dt.hour\n",
    "    name['day']=name['Start Time'].dt.weekday_name\n",
    "    show_data=input(print(\"press yes if you want to see the first 5 rows of your dataset\"))\n",
    "    show_data=show_data.lower()\n",
    "    i=5\n",
    "    while(show_data=='yes'):\n",
    "        print('\\n First 5 lines of your dataset is \\n')\n",
    "        print(name.head(i))\n",
    "        show_data=input(print(\"press yes if you want to see the first 5 rows of your dataset\"))\n",
    "        show_data=show_data.lower()\n",
    "        i=i+5\n",
    "    if month!='None':\n",
    "        month=months.index(month)+1\n",
    "    if day!='None':\n",
    "        name=name[name['day']==day.title()] \n",
    "    return(name)"
   ]
  },
  {
   "cell_type": "markdown",
   "metadata": {},
   "source": [
    "Popular times of travel\n",
    "- find most common month\n",
    "- find most common day of week\n",
    "- find most common hour of day"
   ]
  },
  {
   "cell_type": "code",
   "execution_count": null,
   "metadata": {},
   "outputs": [],
   "source": [
    "\"\"\"this fun find\n",
    "   1.most_common_month.\n",
    "   2.most_common_day_of_week.\n",
    "   3.most_common_hour.\n",
    "\"\"\"\n",
    "def  popular_times_of_travel(name):\n",
    "    most_common_month=name[\"month\"].value_counts().idxmax()\n",
    "    most_common_day_of_week=name[\"day\"].value_counts().idxmax()\n",
    "    most_common_hour_of_day=name[\"hour\"].value_counts().idxmax()\n",
    "    print('\\n The most common month:',most_common_month)\n",
    "    print('\\n The most day of the week:',most_common_day_of_week)\n",
    "    print('\\n The most common hour:', most_common_hour_of_day)\n",
    " \n",
    " "
   ]
  },
  {
   "cell_type": "markdown",
   "metadata": {},
   "source": [
    "Q.Popular stations and trip\n",
    "- find most common start station\n",
    "- find most common end station\n"
   ]
  },
  {
   "cell_type": "code",
   "execution_count": null,
   "metadata": {},
   "outputs": [],
   "source": [
    "\"\"\"This fun find most_common_start station and most_common_end_station\"\"\"\n",
    "def popular_station_trip(name):\n",
    "    most_common_start_station=name['Start Station'].value_counts().idxmax()\n",
    "    most_common_end_station=name['End Station'].value_counts().idxmax()\n",
    "    #most_common_trip_from_start_to_end=name[['Start Station','End Station']].mode().loc[0]\n",
    "    print('\\nmost_common_start_station is :',most_common_start_station)\n",
    "    print('\\n most_common_end_station is :', most_common_end_station)\n",
    "    #print(\"most commonly start and end station are :{},{}\".format( most_common_trip_from_start_to_end[0],\\\n",
    "        #                                                           most_common_trip_from_start_to_end[1])              "
   ]
  },
  {
   "cell_type": "markdown",
   "metadata": {},
   "source": [
    "Q.Trip duration\n",
    "- Find total travel time\n",
    "- Find average travel time"
   ]
  },
  {
   "cell_type": "code",
   "execution_count": null,
   "metadata": {},
   "outputs": [],
   "source": [
    "\"\"\"This fun find out total sum of trip duration and average of trip duration \"\"\"\n",
    "def trip_duration(name):\n",
    "    total_travel_time=name['Trip Duration'].sum()\n",
    "    avg_travel_time=name['Trip Duration'].mean()\n",
    "    print('\\n total_travel_time is :',total_travel_time)\n",
    "    print('\\n avg_travel_time is :',avg_travel_time)   "
   ]
  },
  {
   "cell_type": "markdown",
   "metadata": {},
   "source": [
    "Q.Find the answer of the following questions\n",
    "- Counts of each user type\n",
    "- Counts of each gender"
   ]
  },
  {
   "cell_type": "code",
   "execution_count": null,
   "metadata": {},
   "outputs": [],
   "source": [
    "\"\"\"user_iformation is a fun which find the following things \n",
    "   1.count of each_user_type.\n",
    "   2.count of each_gender_type.\n",
    "   3.Most common year.\n",
    "\"\"\"\n",
    "def user_information(name):\n",
    "    count_of_each_user_Type=name['User Type'].value_counts()\n",
    "    gender_counts=name['Gender'].value_counts()\n",
    "    most_common_year=name['Birth Year'].value_counts().idxmax()\n",
    "    print('\\n count_of_each_user_Type is :',count_of_each_user_Type)\n",
    "    print('\\n gender_counts is :',  gender_counts)\n",
    "    print('\\n most_common_year is :',int(most_common_year)) "
   ]
  },
  {
   "cell_type": "code",
   "execution_count": null,
   "metadata": {},
   "outputs": [
    {
     "name": "stdout",
     "output_type": "stream",
     "text": [
      "which city data you want out of chicago new york or washington\n",
      "\n",
      "Nonenew york\n",
      "enter the month name\n",
      "\n",
      "Noneaugust\n",
      "enter the day of the week\n",
      "\n",
      "Nonesunday\n",
      "press yes if you want to see the first 5 rows of your dataset\n",
      "Noneyes\n",
      "\n",
      " First 5 lines of your dataset is \n",
      "\n",
      "   Unnamed: 0          Start Time             End Time  Trip Duration  \\\n",
      "0     5688089 2017-06-11 14:55:05  2017-06-11 15:08:21            795   \n",
      "1     4096714 2017-05-11 15:30:11  2017-05-11 15:41:43            692   \n",
      "2     2173887 2017-03-29 13:26:26  2017-03-29 13:48:31           1325   \n",
      "3     3945638 2017-05-08 19:47:18  2017-05-08 19:59:01            703   \n",
      "4     6208972 2017-06-21 07:49:16  2017-06-21 07:54:46            329   \n",
      "\n",
      "             Start Station             End Station   User Type  Gender  \\\n",
      "0  Suffolk St & Stanton St  W Broadway & Spring St  Subscriber    Male   \n",
      "1  Lexington Ave & E 63 St         1 Ave & E 78 St  Subscriber    Male   \n",
      "2        1 Pl & Clinton St    Henry St & Degraw St  Subscriber    Male   \n",
      "3    Barrow St & Hudson St         W 20 St & 8 Ave  Subscriber  Female   \n",
      "4          1 Ave & E 44 St         E 53 St & 3 Ave  Subscriber    Male   \n",
      "\n",
      "   Birth Year  month  hour        day  \n",
      "0      1998.0      6    14     Sunday  \n",
      "1      1981.0      5    15   Thursday  \n",
      "2      1987.0      3    13  Wednesday  \n",
      "3      1986.0      5    19     Monday  \n",
      "4      1992.0      6     7  Wednesday  \n",
      "press yes if you want to see the first 5 rows of your dataset\n",
      "Noneyes\n",
      "\n",
      " First 5 lines of your dataset is \n",
      "\n",
      "   Unnamed: 0          Start Time             End Time  Trip Duration  \\\n",
      "0     5688089 2017-06-11 14:55:05  2017-06-11 15:08:21            795   \n",
      "1     4096714 2017-05-11 15:30:11  2017-05-11 15:41:43            692   \n",
      "2     2173887 2017-03-29 13:26:26  2017-03-29 13:48:31           1325   \n",
      "3     3945638 2017-05-08 19:47:18  2017-05-08 19:59:01            703   \n",
      "4     6208972 2017-06-21 07:49:16  2017-06-21 07:54:46            329   \n",
      "5     1285652 2017-02-22 18:55:24  2017-02-22 19:12:03            998   \n",
      "6     1675753 2017-03-06 16:22:53  2017-03-06 16:30:51            478   \n",
      "7     1692245 2017-03-07 07:42:24  2017-03-07 08:49:42           4038   \n",
      "8     2271331 2017-04-02 08:02:36  2017-04-02 09:28:08           5132   \n",
      "9     1558339 2017-03-01 23:01:31  2017-03-01 23:06:41            309   \n",
      "\n",
      "             Start Station                     End Station   User Type  \\\n",
      "0  Suffolk St & Stanton St          W Broadway & Spring St  Subscriber   \n",
      "1  Lexington Ave & E 63 St                 1 Ave & E 78 St  Subscriber   \n",
      "2        1 Pl & Clinton St            Henry St & Degraw St  Subscriber   \n",
      "3    Barrow St & Hudson St                 W 20 St & 8 Ave  Subscriber   \n",
      "4          1 Ave & E 44 St                 E 53 St & 3 Ave  Subscriber   \n",
      "5      State St & Smith St             Bond St & Fulton St  Subscriber   \n",
      "6       Front St & Gold St  Lafayette Ave & Fort Greene Pl  Subscriber   \n",
      "7       E 89 St & York Ave           Broadway & Battery Pl  Subscriber   \n",
      "8   Central Park S & 6 Ave          Central Park S & 6 Ave    Customer   \n",
      "9           E 3 St & 1 Ave                 E 25 St & 2 Ave  Subscriber   \n",
      "\n",
      "   Gender  Birth Year  month  hour        day  \n",
      "0    Male      1998.0      6    14     Sunday  \n",
      "1    Male      1981.0      5    15   Thursday  \n",
      "2    Male      1987.0      3    13  Wednesday  \n",
      "3  Female      1986.0      5    19     Monday  \n",
      "4    Male      1992.0      6     7  Wednesday  \n",
      "5    Male      1986.0      2    18  Wednesday  \n",
      "6    Male      1982.0      3    16     Monday  \n",
      "7    Male      1984.0      3     7    Tuesday  \n",
      "8     NaN         NaN      4     8     Sunday  \n",
      "9    Male      1992.0      3    23  Wednesday  \n",
      "press yes if you want to see the first 5 rows of your dataset\n",
      "Noneno\n",
      "\n",
      " The most common month: 4\n",
      "\n",
      " The most day of the week: Sunday\n",
      "\n",
      " The most common hour: 14\n",
      "\n",
      "most_common_start_station is : West St & Chambers St\n",
      "\n",
      " most_common_end_station is : Central Park S & 6 Ave\n",
      "\n",
      " total_travel_time is : 39477079\n",
      "\n",
      " avg_travel_time is : 1092.0051727476418\n",
      "\n",
      " count_of_each_user_Type is : Subscriber    28409\n",
      "Customer       7590\n",
      "Name: User Type, dtype: int64\n",
      "\n",
      " gender_counts is : Male      20657\n",
      "Female     8412\n",
      "Name: Gender, dtype: int64\n",
      "\n",
      " most_common_year is : 1989\n",
      "enter yes to end the program:\n"
     ]
    }
   ],
   "source": [
    "\"\"\"This block is the main body of code from here we call the other function to  perform specific \n",
    "   functionality.city_data is a dictionary which contain dataset of 3 town\"\"\"\n",
    "while True:\n",
    "    CITY_DATA={'chicago':'chicago.csv','new york':'new_york_city.csv','washington':'washington.csv'}\n",
    "    cities=['chicago','new york','washington']\n",
    "    months=['january','february','march','april','may','june','august','september','october','november','december']\n",
    "    days=['sunday','monday','tuesday','wednesday','thrusday','friday','saturday','sunday']\n",
    "    city,month,day=filtering_the_data()\n",
    "    name=load_data(city,month,day)\n",
    "    popular_times_of_travel(name)\n",
    "    popular_station_trip(name)\n",
    "    trip_duration(name)\n",
    "    user_information(name)\n",
    "    z=input(print('enter yes to end the program:'))\n",
    "    z=z.lower()\n",
    "    if(z=='yes'):\n",
    "        break"
   ]
  },
  {
   "cell_type": "code",
   "execution_count": null,
   "metadata": {},
   "outputs": [],
   "source": []
  }
 ],
 "metadata": {
  "kernelspec": {
   "display_name": "Python 3",
   "language": "python",
   "name": "python3"
  },
  "language_info": {
   "codemirror_mode": {
    "name": "ipython",
    "version": 3
   },
   "file_extension": ".py",
   "mimetype": "text/x-python",
   "name": "python",
   "nbconvert_exporter": "python",
   "pygments_lexer": "ipython3",
   "version": "3.7.1"
  }
 },
 "nbformat": 4,
 "nbformat_minor": 2
}
