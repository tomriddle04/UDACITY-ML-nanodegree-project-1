{
 "cells": [
  {
   "cell_type": "code",
   "execution_count": 1,
   "metadata": {},
   "outputs": [
    {
     "data": {
      "text/plain": [
       "'C:\\\\Users\\\\Abhishek'"
      ]
     },
     "execution_count": 1,
     "metadata": {},
     "output_type": "execute_result"
    }
   ],
   "source": [
    "pwd"
   ]
  },
  {
   "cell_type": "code",
   "execution_count": 2,
   "metadata": {},
   "outputs": [
    {
     "name": "stdout",
     "output_type": "stream",
     "text": [
      "C:\\Users\\Abhishek\\Downloads\\New folder (2)\n"
     ]
    }
   ],
   "source": [
    "cd C:\\Users\\Abhishek\\Downloads\\New folder (2)"
   ]
  },
  {
   "cell_type": "code",
   "execution_count": 3,
   "metadata": {},
   "outputs": [],
   "source": [
    "#importing all the necessary functions and packages\n",
    "import pandas as pd\n",
    "import numpy as np\n",
    "import json\n",
    "import time\n",
    "\n",
    "def filtering_the_data():\n",
    "    while True:\n",
    "        city=input(print('which city data you want out of chicago new york or washington\\n'))\n",
    "        if city in cities:\n",
    "            break\n",
    "    month=input(print('enter the month name\\n'))\n",
    "    day=input(print('enter the day of the week\\n'))\n",
    "    return(city,month,day)\n"
   ]
  },
  {
   "cell_type": "code",
   "execution_count": 4,
   "metadata": {},
   "outputs": [],
   "source": [
    "\"\"\"load_data fun here selecting the data of a city which is given by user as a input and changing\n",
    "    1.datatype of Start Time column.\n",
    "    2.datatype of month column.\n",
    "    3.datatype of hour and day column also.\n",
    "    4.returning the file of data.\n",
    "    5.print the first few lines of dataset.\n",
    "\"\"\"\n",
    "def load_data(city,month,day):\n",
    "    name=pd.read_csv(CITY_DATA[city])\n",
    "    name['Start Time']=pd.to_datetime(name['Start Time'])\n",
    "    name['month']=name['Start Time'].dt.month\n",
    "    name['hour']=name['Start Time'].dt.hour\n",
    "    name['day']=name['Start Time'].dt.weekday_name\n",
    "    show_data=input(print(\"press yes if you want to first 5 rows of your dataset\"))\n",
    "    if(show_data=='yes'):\n",
    "        print('\\n First 5 lines of your dataset is \\n')\n",
    "        print(name.head(5))\n",
    "    if month!='None':\n",
    "        month=months.index(month)+1\n",
    "    if day!='None':\n",
    "        name=name[name['day']==day.title()] \n",
    "    return(name)\n",
    "\n",
    "         \n",
    "    \n",
    "    \n",
    "    "
   ]
  },
  {
   "cell_type": "markdown",
   "metadata": {},
   "source": [
    "Popular times of travel\n",
    "- find most common month\n",
    "- find most common day of week\n",
    "- find most common hour of day"
   ]
  },
  {
   "cell_type": "code",
   "execution_count": 5,
   "metadata": {},
   "outputs": [],
   "source": [
    "\"\"\"this fun find\n",
    "   1.most_common_month.\n",
    "   2.most_common_day_of_week.\n",
    "   3.most_common_hour.\n",
    "\"\"\"\n",
    "def  popular_times_of_travel(name):\n",
    "    most_common_month=name[\"month\"].value_counts().idxmax()\n",
    "    most_common_day_of_week=name[\"day\"].value_counts().idxmax()\n",
    "    most_common_hour_of_day=name[\"hour\"].value_counts().idxmax()\n",
    "    print('\\n The most common month:',most_common_month)\n",
    "    print('\\n The most day of the week:',most_common_day_of_week)\n",
    "    print('\\n The most common hour:', most_common_hour_of_day)\n",
    " \n",
    "    \n",
    "\n",
    "                                                                              \n",
    "            \n",
    "            \n",
    "            \n",
    "            \n",
    "            \n",
    "    \n",
    "    \n",
    "    "
   ]
  },
  {
   "cell_type": "markdown",
   "metadata": {},
   "source": [
    "Q.Popular stations and trip\n",
    "- find most common start station\n",
    "- find most common end station\n"
   ]
  },
  {
   "cell_type": "code",
   "execution_count": 6,
   "metadata": {},
   "outputs": [],
   "source": [
    "\"\"\"This fun find most_common_start station and most_common_end_station\"\"\"\n",
    "def popular_station_trip(name):\n",
    "    most_common_start_station=name['Start Station'].value_counts().idxmax()\n",
    "    most_common_end_station=name['End Station'].value_counts().idxmax()\n",
    "    #most_common_trip_from_start_to_end=name[['Start Station','End Station']].mode().loc[0]\n",
    "    print('\\nmost_common_start_station is :',most_common_start_station)\n",
    "    print('\\n most_common_end_station is :', most_common_end_station)\n",
    "    #print(\"most commonly start and end station are :{},{}\".format( most_common_trip_from_start_to_end[0],\\\n",
    "        #                                                           most_common_trip_from_start_to_end[1]))\n",
    "    \n",
    "            \n",
    "            \n",
    "            \n",
    "            \n",
    "    \n",
    "    \n",
    "    "
   ]
  },
  {
   "cell_type": "markdown",
   "metadata": {},
   "source": [
    "Q.Trip duration\n",
    "- Find total travel time\n",
    "- Find average travel time"
   ]
  },
  {
   "cell_type": "code",
   "execution_count": 7,
   "metadata": {},
   "outputs": [],
   "source": [
    "\"\"\"This fun find out total sum of trip duration and average of trip duration \"\"\"\n",
    "def trip_duration(name):\n",
    "    total_travel_time=name['Trip Duration'].sum()\n",
    "    avg_travel_time=name['Trip Duration'].mean()\n",
    "    print('\\n total_travel_time is :',total_travel_time)\n",
    "    print('\\n avg_travel_time is :',avg_travel_time)   "
   ]
  },
  {
   "cell_type": "markdown",
   "metadata": {},
   "source": [
    "Q.Find the answer of the following questions\n",
    "- Counts of each user type\n",
    "- Counts of each gender"
   ]
  },
  {
   "cell_type": "code",
   "execution_count": null,
   "metadata": {},
   "outputs": [],
   "source": [
    "\"\"\"user_iformation is a fun which find the following things \n",
    "   1.count of each_user_type.\n",
    "   2.count of each_gender_type.\n",
    "   3.Most common year.\n",
    "\"\"\"\n",
    "def user_information(name):\n",
    "    count_of_each_user_Type=name['User Type'].value_counts()\n",
    "    gender_counts=name['Gender'].value_counts()\n",
    "    most_common_year=name['Birth Year'].value_counts().idxmax()\n",
    "    print('\\n count_of_each_user_Type is :',count_of_each_user_Type)\n",
    "    print('\\n gender_counts is :',  gender_counts)\n",
    "    print('\\n most_common_year is :',most_common_year) "
   ]
  },
  {
   "cell_type": "code",
   "execution_count": null,
   "metadata": {},
   "outputs": [
    {
     "name": "stdout",
     "output_type": "stream",
     "text": [
      "which city data you want out of chicago new york or washington\n",
      "\n",
      "Nonechicago\n",
      "enter the month name\n",
      "\n",
      "Nonemay\n",
      "enter the day of the week\n",
      "\n",
      "Nonetuesday\n",
      "press yes if you want to first 5 rows of your dataset\n",
      "Noneyes\n",
      "\n",
      " First 5 lines of your dataset is \n",
      "\n",
      "   Unnamed: 0          Start Time             End Time  Trip Duration  \\\n",
      "0     1423854 2017-06-23 15:09:32  2017-06-23 15:14:53            321   \n",
      "1      955915 2017-05-25 18:19:03  2017-05-25 18:45:53           1610   \n",
      "2        9031 2017-01-04 08:27:49  2017-01-04 08:34:45            416   \n",
      "3      304487 2017-03-06 13:49:38  2017-03-06 13:55:28            350   \n",
      "4       45207 2017-01-17 14:53:07  2017-01-17 15:02:01            534   \n",
      "\n",
      "                   Start Station                   End Station   User Type  \\\n",
      "0           Wood St & Hubbard St       Damen Ave & Chicago Ave  Subscriber   \n",
      "1            Theater on the Lake  Sheffield Ave & Waveland Ave  Subscriber   \n",
      "2             May St & Taylor St           Wood St & Taylor St  Subscriber   \n",
      "3  Christiana Ave & Lawrence Ave  St. Louis Ave & Balmoral Ave  Subscriber   \n",
      "4         Clark St & Randolph St  Desplaines St & Jackson Blvd  Subscriber   \n",
      "\n",
      "   Gender  Birth Year  month  hour        day  \n",
      "0    Male      1992.0      6    15     Friday  \n",
      "1  Female      1992.0      5    18   Thursday  \n",
      "2    Male      1981.0      1     8  Wednesday  \n",
      "3    Male      1986.0      3    13     Monday  \n",
      "4    Male      1975.0      1    14    Tuesday  \n",
      "\n",
      " The most common month: 6\n",
      "\n",
      " The most day of the week: Tuesday\n",
      "\n",
      " The most common hour: 17\n",
      "\n",
      "most_common_start_station is : Clinton St & Washington Blvd\n",
      "\n",
      " most_common_end_station is : Clinton St & Washington Blvd\n",
      "\n",
      " total_travel_time is : 36903659\n",
      "\n",
      " avg_travel_time is : 803.7911439275135\n",
      "\n",
      " count_of_each_user_Type is : Subscriber    40868\n",
      "Customer       5044\n",
      "Name: User Type, dtype: int64\n",
      "\n",
      " gender_counts is : Male      31543\n",
      "Female     9334\n",
      "Name: Gender, dtype: int64\n",
      "\n",
      " most_common_year is : 1989.0\n",
      "enter yes to end the program:\n"
     ]
    }
   ],
   "source": [
    "\"\"\"This block is the main body of code from here we call the other function to  perform specific \n",
    "   functionality.city_data is a dictionary which contain dataset of 3 town\"\"\"\n",
    "while True:\n",
    "    CITY_DATA={'chicago':'chicago.csv','new york':'new_york_city.csv','washington':'washington.csv'}\n",
    "    cities=['chicago','new york','washington']\n",
    "    months=['january','february','march','april','may','june','august','september','october','november','december']\n",
    "    days=['sunday','monday','tuesday','wednesday','thrusday','friday','saturday','sunday']\n",
    "    city,month,day=filtering_the_data()\n",
    "    name=load_data(city,month,day)\n",
    "    popular_times_of_travel(name)\n",
    "    popular_station_trip(name)\n",
    "    trip_duration(name)\n",
    "    user_information(name)\n",
    "    z=input(print('enter yes to end the program:'))\n",
    "    if(z=='yes'):\n",
    "        break"
   ]
  },
  {
   "cell_type": "code",
   "execution_count": null,
   "metadata": {},
   "outputs": [],
   "source": []
  }
 ],
 "metadata": {
  "kernelspec": {
   "display_name": "Python 3",
   "language": "python",
   "name": "python3"
  },
  "language_info": {
   "codemirror_mode": {
    "name": "ipython",
    "version": 3
   },
   "file_extension": ".py",
   "mimetype": "text/x-python",
   "name": "python",
   "nbconvert_exporter": "python",
   "pygments_lexer": "ipython3",
   "version": "3.7.1"
  }
 },
 "nbformat": 4,
 "nbformat_minor": 2
}
